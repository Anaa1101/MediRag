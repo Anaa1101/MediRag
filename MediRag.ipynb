{
  "cells": [
    {
      "cell_type": "markdown",
      "metadata": {
        "id": "view-in-github",
        "colab_type": "text"
      },
      "source": [
        "<a href=\"https://colab.research.google.com/github/Anaa1101/MediRag/blob/main/MediRag.ipynb\" target=\"_parent\"><img src=\"https://colab.research.google.com/assets/colab-badge.svg\" alt=\"Open In Colab\"/></a>"
      ]
    },
    {
      "cell_type": "code",
      "execution_count": null,
      "metadata": {
        "collapsed": true,
        "id": "z-eUFJFxC2h5"
      },
      "outputs": [],
      "source": [
        "b!pip install langchain openai faiss-cpu sentence-transformers PyMuPDF\n"
      ]
    },
    {
      "cell_type": "markdown",
      "metadata": {
        "id": "y40L-bhHFwxR"
      },
      "source": [
        "# New Section"
      ]
    },
    {
      "cell_type": "markdown",
      "metadata": {
        "id": "jpRloLwGLk8h"
      },
      "source": []
    },
    {
      "cell_type": "markdown",
      "metadata": {
        "id": "W5a8kZYjLVqa"
      },
      "source": [
        "getpass\n"
      ]
    },
    {
      "cell_type": "markdown",
      "metadata": {
        "id": "03gcsYYtaErO"
      },
      "source": [
        "1. INSTALLATION\n"
      ]
    },
    {
      "cell_type": "code",
      "execution_count": null,
      "metadata": {
        "collapsed": true,
        "id": "WAztuFCqQmjv"
      },
      "outputs": [],
      "source": [
        "pip install langchain langchain-community langchain-text-splitters"
      ]
    },
    {
      "cell_type": "code",
      "execution_count": null,
      "metadata": {
        "collapsed": true,
        "id": "CzAKveOamxe-"
      },
      "outputs": [],
      "source": [
        "!pip install langchain-community pypdf"
      ]
    },
    {
      "cell_type": "code",
      "execution_count": null,
      "metadata": {
        "collapsed": true,
        "id": "roBB16eDaMuM"
      },
      "outputs": [],
      "source": [
        "pip install chromadb"
      ]
    },
    {
      "cell_type": "code",
      "execution_count": null,
      "metadata": {
        "collapsed": true,
        "id": "ar57eJtgzI2g"
      },
      "outputs": [],
      "source": [
        "pip install -U langchain-google-genai\n"
      ]
    },
    {
      "cell_type": "code",
      "execution_count": null,
      "metadata": {
        "collapsed": true,
        "id": "t2XfF57PwBHo"
      },
      "outputs": [],
      "source": [
        "pip install langchain-chroma"
      ]
    },
    {
      "cell_type": "code",
      "execution_count": null,
      "metadata": {
        "collapsed": true,
        "id": "4Xu2LtBeaaVk"
      },
      "outputs": [],
      "source": [
        "pip install pypdf"
      ]
    },
    {
      "cell_type": "code",
      "execution_count": null,
      "metadata": {
        "collapsed": true,
        "id": "slJq-JP4agEf"
      },
      "outputs": [],
      "source": [
        " pip install langchain-google-genai"
      ]
    },
    {
      "cell_type": "markdown",
      "metadata": {
        "id": "-35N6zfyayAB"
      },
      "source": [
        "2.UPLOADING AND LOADING MY PDF\n"
      ]
    },
    {
      "cell_type": "code",
      "execution_count": null,
      "metadata": {
        "id": "vbwN5E7qa6Nt",
        "collapsed": true
      },
      "outputs": [],
      "source": [
        "from google.colab import files\n",
        "uploaded = files.upload()\n",
        "file_name = list(uploaded.keys())[0]\n",
        "print(\"Uploaded file:\", file_name)"
      ]
    },
    {
      "cell_type": "code",
      "execution_count": null,
      "metadata": {
        "id": "7udT4GNKbaS1",
        "collapsed": true
      },
      "outputs": [],
      "source": [
        "from langchain_community.document_loaders import PyPDFLoader\n",
        "loader = PyPDFLoader(\"/content/\" + file_name)\n",
        "docs=loader.load()\n",
        "print(\"no of pages\",len(docs));\n",
        "print(\"first page sample\",docs[0].page_content[:500])"
      ]
    },
    {
      "cell_type": "code",
      "execution_count": null,
      "metadata": {
        "id": "ZHsy9mSVgMOA"
      },
      "outputs": [],
      "source": [
        "from langchain.text_splitter import RecursiveCharacterTextSplitter\n",
        "splitter=RecursiveCharacterTextSplitter(\n",
        "    chunk_size=300,\n",
        "    chunk_overlap=50\n",
        "\n",
        ")\n",
        "chunks=splitter.split_documents(docs)\n",
        "\n",
        "print(f\"Total chunks:{len(chunks)}\")\n",
        "print(\"Sample chunk: \",chunks[1].page_content[:300])"
      ]
    },
    {
      "cell_type": "markdown",
      "metadata": {
        "id": "bAk5IK7riHwi"
      },
      "source": [
        "making embeddings:\n"
      ]
    },
    {
      "cell_type": "code",
      "execution_count": null,
      "metadata": {
        "id": "WPsnurgbiJiW"
      },
      "outputs": [],
      "source": [
        "from langchain_google_genai import GoogleGenerativeAIEmbeddings\n",
        "embeddings=GoogleGenerativeAIEmbeddings(model=\"model/embedding-004\")"
      ]
    },
    {
      "cell_type": "markdown",
      "metadata": {
        "id": "FWGrvB-vq6kF"
      },
      "source": [
        "Store in Chroma\n"
      ]
    },
    {
      "cell_type": "code",
      "execution_count": null,
      "metadata": {
        "id": "LgeKtWHt1mqp"
      },
      "outputs": [],
      "source": [
        "import os\n",
        "from getpass import getpass\n",
        "from langchain_google_genai import GoogleGenerativeAIEmbeddings\n",
        "\n",
        "os.environ[\"GOOGLE_API_KEY\"] = getpass(\"Enter your Google API Key: \")\n",
        "\n",
        "embeddings = GoogleGenerativeAIEmbeddings(\n",
        "    model=\"models/text-embedding-004\",   # ✅ correct model\n",
        "    google_api_key=os.environ[\"GOOGLE_API_KEY\"]\n",
        ")\n"
      ]
    },
    {
      "cell_type": "code",
      "execution_count": null,
      "metadata": {
        "id": "4AOd-Kf0q7nq",
        "collapsed": true
      },
      "outputs": [],
      "source": [
        "from langchain_chroma import Chroma\n",
        "vectorstore=Chroma.from_documents(\n",
        "    documents=chunks,\n",
        "    embedding=embeddings,\n",
        "    persist_directory=\"./chroma_db\"\n",
        ")\n",
        "retriever=vectorstore.as_retriever()"
      ]
    },
    {
      "cell_type": "code",
      "execution_count": null,
      "metadata": {
        "id": "yv0RHeatuSAo"
      },
      "outputs": [],
      "source": [
        "from langchain_google_genai  import ChatGoogleGenerativeAI\n",
        "from langchain.chains import RetrievalQA\n",
        "from langchain.prompts import PromptTemplate\n",
        "llm=ChatGoogleGenerativeAI(model=\"gemini-1.5-flash\")\n",
        "\n",
        "template=\"\"\"u are a helpful medical assistant.\n",
        "If the user's question is vague or incomplete, try to interpret it\n",
        "based on the context. If you still cannot, politely ask them to clarify.\n",
        "\n",
        "Context: {context}\n",
        "Question: {question}\n",
        "\n",
        "Answer and then suggest a clear follow-up question:\"\"\"\n",
        "\n",
        "prompt=PromptTemplate(\n",
        "    template=template,\n",
        "    input_variables=[\"context\",\"question\"] #placeholders\n",
        ")\n",
        "\n",
        "\n",
        "\n",
        "qa_chain=RetrievalQA.from_chain_type(\n",
        "    llm=llm,\n",
        "    retriever=retriever,\n",
        "    chain_type=\"stuff\",\n",
        "    chain_type_kwargs={\"prompt\": prompt}\n",
        ")\n",
        "print(\"Ask me anything about medical data, research, or equipment!\")\n",
        "while True:\n",
        "  query=input()\n",
        "  if query.lower() in[\"bye\",\"exit\",\"quit\",\"q\"]:\n",
        "    print(\"Goodbye 👋\")\n",
        "    break\n",
        "  response=qa_chain.run(query)\n",
        "  print(\"\\nAnswer:\",response)"
      ]
    }
  ],
  "metadata": {
    "colab": {
      "provenance": [],
      "include_colab_link": true
    },
    "kernelspec": {
      "display_name": "Python 3",
      "name": "python3"
    },
    "language_info": {
      "name": "python"
    }
  },
  "nbformat": 4,
  "nbformat_minor": 0
}